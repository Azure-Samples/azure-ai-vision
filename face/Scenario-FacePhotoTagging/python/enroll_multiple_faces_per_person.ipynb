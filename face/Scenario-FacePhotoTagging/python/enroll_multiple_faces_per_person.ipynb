{
 "cells": [
  {
   "cell_type": "markdown",
   "id": "759f9ec0",
   "metadata": {},
   "source": [
    "# API Face Samples"
   ]
  },
  {
   "cell_type": "markdown",
   "id": "61534b8b",
   "metadata": {},
   "source": [
    "## Objective\n",
    "\n",
    " This script enrolls multiple faces for each person from a directory where each subfolder represents a different person. It creates a person for each subfolder and adds all images within that subfolder to the created person."
   ]
  },
  {
   "cell_type": "code",
   "execution_count": null,
   "id": "821406a6",
   "metadata": {},
   "outputs": [],
   "source": [
    "import os\n",
    "from shared_functions import create_person, add_person_face, create_dynamic_person_group, delete_person_face\n",
    "\n",
    "# Replace with your Azure Face API subscription key and endpoint\n",
    "FACE_KEY = os.environ[\"FACE_API_KEY\"]\n",
    "FACE_ENDPOINT = os.environ[\"FACE_ENDPOINT_URL\"]\n",
    "folder_path = \"../data/MultiFaceEnrollment\"  # Path to the folder containing subfolders of images\n",
    "dynamic_person_group_id = \"dynamic_person_group_id\"\n",
    "\n",
    "persond_ids = []\n",
    "# Iterate through all subfolders in the folder_path\n",
    "for subfolder_name in os.listdir(folder_path):\n",
    "    subfolder_path = os.path.join(folder_path, subfolder_name)\n",
    "    if os.path.isdir(subfolder_path):\n",
    "        person_name = subfolder_name\n",
    "        # Create a person for each subfolder\n",
    "        person_id = create_person(FACE_KEY, FACE_ENDPOINT, person_name, \"sample=enroll_multiple_faces_per_person\")\n",
    "        print(f\"Created person {person_name} with person_id: {person_id}\")\n",
    "        if person_id:\n",
    "            persond_ids.append(person_id)\n",
    "        # Iterate through all images in the subfolder\n",
    "        for filename in os.listdir(subfolder_path):\n",
    "            if filename.lower().endswith(('.png', '.jpg', '.jpeg')):\n",
    "                image_path = os.path.join(subfolder_path, filename)\n",
    "                # Add face to the created person\n",
    "                persisted_face_id = add_person_face(FACE_KEY, FACE_ENDPOINT, image_path, person_id, \"sample=enroll_multiple_faces_per_person\", quality_filter=True)\n",
    "                if persisted_face_id:\n",
    "                    print(f\"Added face from {filename} with persisted_face_id: {persisted_face_id} to person_id: {person_id}\")\n",
    "                else:\n",
    "                    print(f\"Failed to add face from {filename} to person_id: {person_id}\")\n",
    "\n",
    "# Output the person IDs created\n",
    "print(f\"Person IDs: {persond_ids}\")\n",
    "\n",
    "# Create a dynamic person group based on the person IDs\n",
    "if create_dynamic_person_group(FACE_KEY, FACE_ENDPOINT, dynamic_person_group_id, persond_ids, \"sample=enroll_multiple_faces_per_person\"):\n",
    "    print(f\"Created dynamic person group with ID: {dynamic_person_group_id}\")\n",
    "\n",
    "print(\"Done\")"
   ]
  },
  {
   "cell_type": "markdown",
   "id": "de736d94",
   "metadata": {},
   "source": [
    "### Adding a New Face\n",
    "You can add an additional face to an already enrolled person."
   ]
  },
  {
   "cell_type": "code",
   "execution_count": null,
   "id": "19fe3aff",
   "metadata": {},
   "outputs": [],
   "source": [
    "new_face_image_path = \"new_face_image_path\" # The path to the face image you want to add.\n",
    "existing_person_id = \"existing_person_id\" # The unique ID of the person to whom the face should be added.\n",
    "\n",
    "persisted_face_id = add_person_face(FACE_KEY, FACE_ENDPOINT, new_face_image_path, existing_person_id, \"sample=enroll_multiple_faces_per_person\", quality_filter=True)\n",
    "if persisted_face_id:\n",
    "    print(f\"Added face from {new_face_image_path} with persisted_face_id: {persisted_face_id} to person_id: {existing_person_id}\")\n",
    "else:\n",
    "    print(f\"Failed to add face from {new_face_image_path} to person_id: {existing_person_id}\")"
   ]
  },
  {
   "cell_type": "markdown",
   "id": "a04a7d26",
   "metadata": {},
   "source": [
    "### Deleting a Face\n",
    "You can also delete a specific face from a person."
   ]
  },
  {
   "cell_type": "code",
   "execution_count": null,
   "id": "da2bb1bd",
   "metadata": {},
   "outputs": [],
   "source": [
    "existing_person_id = \"existing_person_id\" # The unique ID of the person whose face you want to delete.\n",
    "existing_persisted_face_id = \"existing_persisted_face_id\" # The unique ID of the face to delete.\n",
    "\n",
    "if delete_person_face(FACE_KEY, FACE_ENDPOINT, existing_person_id, existing_persisted_face_id, \"sample=enroll_multiple_faces_per_person\"):\n",
    "    print(f\"Deleted face with persisted_face_id: {existing_persisted_face_id} from person with person_id: {existing_person_id}\")\n",
    "else:\n",
    "    print(f\"Failed to delete face with persisted_face_id: {existing_persisted_face_id} from person with person_id: {existing_person_id}\")"
   ]
  }
 ],
 "metadata": {
  "kernelspec": {
   "display_name": "Python 3 (ipykernel)",
   "language": "python",
   "name": "python3"
  },
  "language_info": {
   "codemirror_mode": {
    "name": "ipython",
    "version": 3
   },
   "file_extension": ".py",
   "mimetype": "text/x-python",
   "name": "python",
   "nbconvert_exporter": "python",
   "pygments_lexer": "ipython3",
   "version": "3.9.18"
  }
 },
 "nbformat": 4,
 "nbformat_minor": 5
}
