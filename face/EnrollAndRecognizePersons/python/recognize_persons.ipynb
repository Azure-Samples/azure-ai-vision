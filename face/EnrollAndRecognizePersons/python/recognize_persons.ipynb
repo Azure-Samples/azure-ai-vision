{
 "cells": [
  {
   "cell_type": "markdown",
   "id": "759f9ec0",
   "metadata": {},
   "source": [
    "# API Face Samples"
   ]
  },
  {
   "cell_type": "markdown",
   "id": "61534b8b",
   "metadata": {},
   "source": [
    "## Objective\n",
    "\n",
    " This script uses a test image to recognize the enrolled persons using a list of persons or a dynamic person group. "
   ]
  },
  {
   "cell_type": "code",
   "execution_count": null,
   "id": "821406a6",
   "metadata": {},
   "outputs": [],
   "source": [
    "import os\n",
    "from shared_functions import identify_faces, delete_dynamic_person_group, delete_person\n",
    "\n",
    "# Replace with your Azure Face API subscription key and endpoint\n",
    "FACE_KEY = os.environ[\"FACE_API_KEY\"]\n",
    "FACE_ENDPOINT = os.environ[\"FACE_ENDPOINT_URL\"]\n",
    "\n",
    "test_image_path = 'path_to_test_image.jpg'\n",
    "dynamic_person_group_id = \"dynamic_person_group_id\" # Created from enroll_single_face_per_person.py or enroll_multiple_faces_per_person.py\n",
    "persond_ids = \"person_ids\" # Created from enroll_single_face_per_person.py or enroll_multiple_faces_per_person.py\n",
    "\n",
    "# Recognize faces in the test image using the person IDs\n",
    "identify_faces(FACE_KEY, FACE_ENDPOINT, test_image_path, person_ids=persond_ids, injection_header=\"sample=recognize_persons\")\n",
    "\n",
    "# Recognize faces in the test image using the dynamic person group ID\n",
    "identify_faces(FACE_KEY, FACE_ENDPOINT, test_image_path, dynamic_person_group_id=dynamic_person_group_id, injection_header=\"sample=recognize_persons\")\n",
    "\n",
    "# Delete the dynamic person group (optional)\n",
    "if delete_dynamic_person_group(FACE_KEY, FACE_ENDPOINT, dynamic_person_group_id, \"sample=recognize_persons\"):\n",
    "    print(f\"Deleted dynamic person group with ID: {dynamic_person_group_id}\")\n",
    "\n",
    "# Delete the persons (optional)\n",
    "for person_id in persond_ids:\n",
    "    if delete_person(FACE_KEY, FACE_ENDPOINT, person_id, \"sample=recognize_persons\"):\n",
    "        print(f\"Deleted person with ID: {person_id}\")\n",
    "\n",
    "print(\"Done\")"
   ]
  }
 ],
 "metadata": {
  "kernelspec": {
   "display_name": "Python 3 (ipykernel)",
   "language": "python",
   "name": "python3"
  },
  "language_info": {
   "codemirror_mode": {
    "name": "ipython",
    "version": 3
   },
   "file_extension": ".py",
   "mimetype": "text/x-python",
   "name": "python",
   "nbconvert_exporter": "python",
   "pygments_lexer": "ipython3",
   "version": "3.9.18"
  }
 },
 "nbformat": 4,
 "nbformat_minor": 5
}
