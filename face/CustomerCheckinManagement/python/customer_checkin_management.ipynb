{
 "cells": [
  {
   "cell_type": "markdown",
   "id": "759f9ec0",
   "metadata": {},
   "source": [
    "# API Face Samples"
   ]
  },
  {
   "cell_type": "markdown",
   "id": "61534b8b",
   "metadata": {},
   "source": [
    "## Objective\n",
    "\n",
    "This script manages customer checkin data within a system by utilizing Azure Dynamic Person Group. It automates the detection and enrollment of customer faces, identifies customers within dynamic person groups (such as daily and location-specific groups), and links customers to these groups to streamline face recognition processes."
   ]
  },
  {
   "cell_type": "code",
   "execution_count": null,
   "id": "821406a6",
   "metadata": {},
   "outputs": [],
   "source": [
    "import os\n",
    "import logging\n",
    "from shared_functions import (\n",
    "    add_person_face, \n",
    "    create_person,\n",
    "    create_dynamic_person_group,\n",
    "    check_dynamic_person_group_exists,\n",
    "    detect_faces,\n",
    "    identify_faces,\n",
    "    link_person_to_dynamic_person_group\n",
    ")\n",
    "from datetime import datetime\n",
    "\n",
    "# Replace with your Azure Face API subscription key and endpoint\n",
    "FACE_KEY = os.environ[\"FACE_API_KEY\"]\n",
    "FACE_ENDPOINT = os.environ[\"FACE_ENDPOINT_URL\"]\n",
    "\n",
    "image_path = \"path_to_image.jpg\"\n",
    "patient_name = \"Patient Name\" # Optional\n",
    "customer_group_id = \"customer_group_id \"\n",
    "daily_group_id = f\"daily_group_{customer_group_id}_{datetime.now().strftime('%Y_%m_%d')}\"\n",
    "\n",
    "logging.basicConfig(level=logging.INFO)\n",
    "\n",
    "# Ensure both daily and customer dynamic groups exist\n",
    "if not check_dynamic_person_group_exists(FACE_KEY, FACE_ENDPOINT, daily_group_id, \"sample=customer_checkin_management\"):\n",
    "    create_dynamic_person_group(FACE_KEY, FACE_ENDPOINT, daily_group_id,  \"sample=customer_checkin_management\")\n",
    "    logging.info(f\"Created dynamic group: {daily_group_id}\")\n",
    "\n",
    "if not check_dynamic_person_group_exists(FACE_KEY, FACE_ENDPOINT, customer_group_id, \"sample=customer_checkin_management\"):\n",
    "    create_dynamic_person_group(FACE_KEY, FACE_ENDPOINT, customer_group_id, \"sample=customer_checkin_management\")\n",
    "    logging.info(f\"Created customer group: {customer_group_id}\")\n",
    "\n",
    "# Detect faces in the image\n",
    "detected_faces = detect_faces(FACE_KEY, FACE_ENDPOINT, image_path, \"sample=customer_checkin_management\")\n",
    "if len(detected_faces) == 0:\n",
    "    print(\"No faces detected in the image\")\n",
    "    exit()\n",
    "\n",
    "# Check if the face exists in the daily group\n",
    "face_id = detected_faces[0][\"faceId\"]\n",
    "person_id = identify_faces(FACE_KEY, FACE_ENDPOINT, face_id, daily_group_id, \"sample=customer_checkin_management\")\n",
    "\n",
    "if not person_id:\n",
    "    logging.info(\"Person not found in daily group.\")\n",
    "    # Check if the face exists in the customer group\n",
    "    person_id = identify_faces(FACE_KEY, FACE_ENDPOINT, face_id, customer_group_id, \"sample=customer_checkin_management\")\n",
    "\n",
    "    if person_id:\n",
    "        logging.info(\"Person exists in customer group.\")\n",
    "        link_person_to_dynamic_person_group(FACE_KEY, FACE_ENDPOINT, daily_group_id, person_id, \"sample=customer_checkin_management\")\n",
    "        logging.info(\"Person linked to daily group.\")\n",
    "    else:\n",
    "        # If person not found, create a new person and add their face\n",
    "        logging.info(\"Person does not exist in daily or customer group. Creating new person.\")\n",
    "        person_id = create_person(FACE_KEY, FACE_ENDPOINT, patient_name, \"sample=customer_checkin_management\")\n",
    "        add_person_face(FACE_KEY, FACE_ENDPOINT, image_path, person_id, \"sample=customer_checkin_management\")\n",
    "\n",
    "        # Link the person to the daily and customer group\n",
    "        link_person_to_dynamic_person_group(FACE_KEY, FACE_ENDPOINT, daily_group_id, person_id, \"sample=customer_checkin_management\")\n",
    "        link_person_to_dynamic_person_group(FACE_KEY, FACE_ENDPOINT, customer_group_id, person_id, \"sample=customer_checkin_management\")\n",
    "        logging.info(\"Person linked to both daily and customer groups.\")\n",
    "else:\n",
    "    logging.info(\"Person found in daily group.\")\n",
    "\n",
    "logging.info(\"Process completed successfully.\")"
   ]
  }
 ],
 "metadata": {
  "kernelspec": {
   "display_name": "Python 3 (ipykernel)",
   "language": "python",
   "name": "python3"
  },
  "language_info": {
   "codemirror_mode": {
    "name": "ipython",
    "version": 3
   },
   "file_extension": ".py",
   "mimetype": "text/x-python",
   "name": "python",
   "nbconvert_exporter": "python",
   "pygments_lexer": "ipython3",
   "version": "3.9.18"
  }
 },
 "nbformat": 4,
 "nbformat_minor": 5
}
