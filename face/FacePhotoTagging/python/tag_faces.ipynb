{
 "cells": [
  {
   "cell_type": "markdown",
   "id": "759f9ec0",
   "metadata": {},
   "source": [
    "# API Face Samples"
   ]
  },
  {
   "cell_type": "markdown",
   "id": "61534b8b",
   "metadata": {},
   "source": [
    "## Objective\n",
    "\n",
    "This script uses a test image to tag faces by matching the detected face against a list of enrolled persons or a dynamic person group."
   ]
  },
  {
   "cell_type": "code",
   "execution_count": null,
   "id": "821406a6",
   "metadata": {},
   "outputs": [],
   "source": [
    "import os\n",
    "from shared_functions import identify_faces, delete_dynamic_person_group, delete_person\n",
    "from PIL import Image, ImageDraw, ImageFont\n",
    "import matplotlib.pyplot as plt\n",
    "\n",
    "def plot_faces_on_image(image_path, identified_faces):\n",
    "    # Load the original image\n",
    "    image = Image.open(image_path)\n",
    "    draw = ImageDraw.Draw(image)\n",
    "    \n",
    "    # Load a font\n",
    "    try:\n",
    "        font = ImageFont.truetype(\"arial.ttf\", 20)\n",
    "    except IOError:\n",
    "        font = ImageFont.load_default()\n",
    "\n",
    "    # Iterate over the identified faces and draw bounding boxes and names\n",
    "    for face in identified_faces:\n",
    "        bbox = face['bbox']\n",
    "        name = face['personName'] if face['personName'] else \"Unknown\"\n",
    "        \n",
    "        # Define the bounding box coordinates\n",
    "        left = bbox['left']\n",
    "        top = bbox['top']\n",
    "        right = left + bbox['width']\n",
    "        bottom = top + bbox['height']\n",
    "        \n",
    "        # Draw the bounding box\n",
    "        draw.rectangle([(left, top), (right, bottom)], outline=\"green\", width=2)\n",
    "        \n",
    "        # Calculate text size using textbbox\n",
    "        text_bbox = draw.textbbox((0, 0), name, font=font)\n",
    "        text_width = text_bbox[2] - text_bbox[0]\n",
    "        text_height = text_bbox[3] - text_bbox[1]\n",
    "        \n",
    "        # Draw a rectangle behind the text\n",
    "        draw.rectangle([(left, max(top - text_height - 4, 0)), (left + text_width + 4, top)], fill=\"grey\")\n",
    "        \n",
    "        # Draw the person's name on top of the bounding box\n",
    "        draw.text((left + 2, top - text_height - 2), name, fill=\"white\", font=font)\n",
    "    \n",
    "    # Display the image with bounding boxes\n",
    "    plt.figure(figsize=(8, 8))\n",
    "    plt.imshow(image)\n",
    "    plt.axis('off')  # Hide axes\n",
    "    plt.show()\n",
    "\n",
    "# Replace with your Azure Face API subscription key and endpoint\n",
    "FACE_KEY = os.environ[\"FACE_API_KEY\"]\n",
    "FACE_ENDPOINT = os.environ[\"FACE_ENDPOINT_URL\"]\n",
    "\n",
    "test_image_path = \"../data/family.jpg\" # Path to the test image\n",
    "dynamic_person_group_id = \"dynamic_person_group_id\" # Created from enroll_single_face_per_person.py or enroll_multiple_faces_per_person.py\n",
    "persond_ids = \"person_ids\" # Created from enroll_single_face_per_person.py or enroll_multiple_faces_per_person.py\n",
    "\n",
    "# Tag faces in the test image using the person IDs\n",
    "tagged_faces_by_ids = identify_faces(FACE_KEY, FACE_ENDPOINT, test_image_path, person_ids=persond_ids, injection_header=\"sample=tag_faces\")\n",
    "\n",
    "# Tag faces in the test image using the dynamic person group ID\n",
    "tagged_faces_by_group = identify_faces(FACE_KEY, FACE_ENDPOINT, test_image_path, dynamic_person_group_id=dynamic_person_group_id, injection_header=\"sample=tag_faces\")\n",
    "\n",
    "# Plot the tagged faces on the test image\n",
    "plot_faces_on_image(test_image_path, tagged_faces_by_group)\n",
    "\n",
    "# Delete the dynamic person group (optional)\n",
    "if delete_dynamic_person_group(FACE_KEY, FACE_ENDPOINT, dynamic_person_group_id, \"sample=tag_faces\"):\n",
    "    print(f\"Deleted dynamic person group with ID: {dynamic_person_group_id}\")\n",
    "\n",
    "# Delete the persons (optional)\n",
    "for person_id in persond_ids:\n",
    "    if delete_person(FACE_KEY, FACE_ENDPOINT, person_id, \"sample=tag_faces\"):\n",
    "        print(f\"Deleted person with ID: {person_id}\")\n",
    "\n",
    "print(\"Done\")"
   ]
  }
 ],
 "metadata": {
  "kernelspec": {
   "display_name": "Python 3 (ipykernel)",
   "language": "python",
   "name": "python3"
  },
  "language_info": {
   "codemirror_mode": {
    "name": "ipython",
    "version": 3
   },
   "file_extension": ".py",
   "mimetype": "text/x-python",
   "name": "python",
   "nbconvert_exporter": "python",
   "pygments_lexer": "ipython3",
   "version": "3.9.18"
  }
 },
 "nbformat": 4,
 "nbformat_minor": 5
}
