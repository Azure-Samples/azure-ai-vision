{
 "cells": [
  {
   "cell_type": "markdown",
   "id": "759f9ec0",
   "metadata": {},
   "source": [
    "# API Face Samples"
   ]
  },
  {
   "cell_type": "markdown",
   "id": "61534b8b",
   "metadata": {},
   "source": [
    "## Objective\n",
    "\n",
    " This script enrolls multiple faces for each person from a directory where each subfolder represents a different person. It creates a person for each subfolder and adds all images within that subfolder to the created person."
   ]
  },
  {
   "cell_type": "code",
   "execution_count": null,
   "id": "821406a6",
   "metadata": {},
   "outputs": [],
   "source": [
    "import os\n",
    "from shared_functions import create_person, add_person_face, create_dynamic_person_group\n",
    "\n",
    "# Replace with your Azure Face API subscription key and endpoint\n",
    "FACE_KEY = os.environ[\"FACE_API_KEY\"]\n",
    "FACE_ENDPOINT = os.environ[\"FACE_ENDPOINT_URL\"]\n",
    "folder_path = \"../data/MultiFaceEnrollment\"  # Path to the folder containing subfolders of images\n",
    "dynamic_person_group_id = \"dynamic_person_group_id\"\n",
    "\n",
    "persond_ids = []\n",
    "# Iterate through all subfolders in the folder_path\n",
    "for subfolder_name in os.listdir(folder_path):\n",
    "    subfolder_path = os.path.join(folder_path, subfolder_name)\n",
    "    if os.path.isdir(subfolder_path):\n",
    "        person_name = subfolder_name\n",
    "        # Create a person for each subfolder\n",
    "        person_id = create_person(FACE_KEY, FACE_ENDPOINT, person_name, \"sample=enroll_multiple_faces_per_person\")\n",
    "        print(f\"Created person {person_name} with person_id: {person_id}\")\n",
    "        if person_id:\n",
    "            persond_ids.append(person_id)\n",
    "        # Iterate through all images in the subfolder\n",
    "        for filename in os.listdir(subfolder_path):\n",
    "            if filename.lower().endswith(('.png', '.jpg', '.jpeg')):\n",
    "                image_path = os.path.join(subfolder_path, filename)\n",
    "                # Add face to the created person\n",
    "                persisted_face_id = add_person_face(FACE_KEY, FACE_ENDPOINT, image_path, person_id, \"sample=enroll_multiple_faces_per_person\", quality_filter=True)\n",
    "                print(f\"Added face from {filename} with persisted_face_id: {persisted_face_id} to person_id: {person_id}\")\n",
    "\n",
    "# Output the person IDs created\n",
    "print(f\"Person IDs: {persond_ids}\")\n",
    "\n",
    "# Create a dynamic person group based on the person IDs\n",
    "if create_dynamic_person_group(FACE_KEY, FACE_ENDPOINT, dynamic_person_group_id, persond_ids, \"sample=enroll_multiple_faces_per_person\"):\n",
    "    print(f\"Created dynamic person group with ID: {dynamic_person_group_id}\")\n",
    "\n",
    "print(\"Done\")"
   ]
  }
 ],
 "metadata": {
  "kernelspec": {
   "display_name": "Python 3 (ipykernel)",
   "language": "python",
   "name": "python3"
  },
  "language_info": {
   "codemirror_mode": {
    "name": "ipython",
    "version": 3
   },
   "file_extension": ".py",
   "mimetype": "text/x-python",
   "name": "python",
   "nbconvert_exporter": "python",
   "pygments_lexer": "ipython3",
   "version": "3.9.18"
  }
 },
 "nbformat": 4,
 "nbformat_minor": 5
}
