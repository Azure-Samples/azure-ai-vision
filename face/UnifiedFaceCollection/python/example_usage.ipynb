{
 "cells": [
  {
   "cell_type": "markdown",
   "id": "759f9ec0",
   "metadata": {},
   "source": [
    "# API Face Samples"
   ]
  },
  {
   "cell_type": "markdown",
   "id": "61534b8b",
   "metadata": {},
   "source": [
    "## Objective\n",
    "\n",
    "The objective of the Unified Face Collection system is to streamline and unify the management of facial recognition and identification tasks by integrating Azure Face API's Large Face List and Large Person Group functionalities into a single, cohesive framework. This system aims to provide a comprehensive solution for creating, training, and maintaining face collections, enhancing the accuracy and efficiency of facial recognition processes in applications such as security, authentication, and user identification."
   ]
  },
  {
   "cell_type": "code",
   "execution_count": null,
   "id": "821406a6",
   "metadata": {},
   "outputs": [],
   "source": [
    "import os\n",
    "from unified_face_collection import UnifiedFaceCollection\n",
    "\n",
    "# Example usage\n",
    "FACE_KEY = os.environ[\"FACE_API_KEY\"]\n",
    "FACE_ENDPOINT = os.environ[\"FACE_ENDPOINT_URL\"]\n",
    "face_collection_id = 'face_collection_id'\n",
    "image_path = 'path_to_image.jpg'\n",
    "\n",
    "face_collection = UnifiedFaceCollection(FACE_KEY, FACE_ENDPOINT, face_collection_id, 'sample=unified_face_collection')\n",
    "\n",
    "# Create a new person if not exists and add face to the collection\n",
    "face_result = face_collection.add_face(image_path, person_name=\"John Doe\")\n",
    "print(face_result)\n",
    "\n",
    "# Train the face collection after adding faces\n",
    "if face_collection.train():\n",
    "    print(\"Training completed successfully\")\n",
    "else:\n",
    "    raise Exception(\"Training failed\")\n",
    "\n",
    "# Find face in an image (search_type can be 'face' or 'person')\n",
    "face_results = face_collection.find_face(image_path, search_type='face')\n",
    "print(face_results)\n",
    "person_results = face_collection.find_face(image_path, search_type='person')\n",
    "print(person_results)\n",
    "\n",
    "# Delete the collection (optional)\n",
    "face_collection.delete_collection()"
   ]
  }
 ],
 "metadata": {
  "kernelspec": {
   "display_name": "Python 3 (ipykernel)",
   "language": "python",
   "name": "python3"
  },
  "language_info": {
   "codemirror_mode": {
    "name": "ipython",
    "version": 3
   },
   "file_extension": ".py",
   "mimetype": "text/x-python",
   "name": "python",
   "nbconvert_exporter": "python",
   "pygments_lexer": "ipython3",
   "version": "3.9.18"
  }
 },
 "nbformat": 4,
 "nbformat_minor": 5
}
